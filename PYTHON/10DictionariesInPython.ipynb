{
 "cells": [
  {
   "cell_type": "markdown",
   "metadata": {},
   "source": [
    "### Dictionaries In Python\n"
   ]
  },
  {
   "cell_type": "code",
   "execution_count": null,
   "metadata": {},
   "outputs": [
    {
     "name": "stdout",
     "output_type": "stream",
     "text": [
      "<class 'dict'>\n"
     ]
    }
   ],
   "source": [
    "##Creating Dictionaries\n",
    "empty_dict={}\n",
    "print(type(empty_dict))"
   ]
  },
  {
   "cell_type": "code",
   "execution_count": 3,
   "metadata": {},
   "outputs": [
    {
     "name": "stdout",
     "output_type": "stream",
     "text": [
      "<class 'dict'>\n"
     ]
    }
   ],
   "source": [
    "empty_dict=dict()\n",
    "empty_dict\n",
    "print(type(empty_dict))"
   ]
  },
  {
   "cell_type": "code",
   "execution_count": null,
   "metadata": {},
   "outputs": [
    {
     "name": "stdout",
     "output_type": "stream",
     "text": [
      "{'Rahul': 'Krish', 'age': 32, 'grade': 24}\n",
      "<class 'dict'>\n"
     ]
    }
   ],
   "source": [
    "student={\"name\":\"Krish\",\"age\":32,\"grade\":24}\n",
    "print(student)\n",
    "print(type(student))"
   ]
  },
  {
   "cell_type": "code",
   "execution_count": null,
   "metadata": {},
   "outputs": [
    {
     "name": "stdout",
     "output_type": "stream",
     "text": [
      "{'name': 32, 'grade': 24}\n",
      "<class 'dict'>\n"
     ]
    }
   ],
   "source": [
    "#single key is always used\n",
    "student={\"name\":\"Krish\",\"name\":32,\"grade\":24}\n",
    "print(student)\n",
    "print(type(student))"
   ]
  },
  {
   "cell_type": "code",
   "execution_count": 9,
   "metadata": {},
   "outputs": [
    {
     "name": "stdout",
     "output_type": "stream",
     "text": [
      "A\n",
      "32\n",
      "A\n",
      "None\n",
      "Not Available\n"
     ]
    }
   ],
   "source": [
    "#Accessing Dictionaries Elements\n",
    "student={\"name\":\"Krish\",\"age\":32,\"grade\":'A'}\n",
    "print(student['grade'])\n",
    "print(student['age'])\n",
    "\n",
    "##Accessing using get() method\n",
    "print(student.get('grade'))\n",
    "print(student.get('last_name'))\n",
    "print(student.get('last_name','Not Available'))"
   ]
  },
  {
   "cell_type": "code",
   "execution_count": null,
   "metadata": {},
   "outputs": [
    {
     "name": "stdout",
     "output_type": "stream",
     "text": [
      "{'name': 'Krish', 'age': 35, 'grade': 'A'}\n",
      "{'name': 'Krish', 'age': 35, 'grade': 'A', 'address': 'India'}\n"
     ]
    }
   ],
   "source": [
    "##Modifying The Dictionaries Element\n",
    "student[\"age\"]=35  ##updated value\n",
    "print(student)\n",
    "student[\"address\"]=\"India\"  ##added new key and value\n",
    "print(student)"
   ]
  },
  {
   "cell_type": "code",
   "execution_count": 14,
   "metadata": {},
   "outputs": [
    {
     "name": "stdout",
     "output_type": "stream",
     "text": [
      "{'name': 'Krish', 'age': 35, 'address': 'India'}\n"
     ]
    }
   ],
   "source": [
    "# del student['grade']\n",
    "print(student)"
   ]
  },
  {
   "cell_type": "code",
   "execution_count": null,
   "metadata": {},
   "outputs": [
    {
     "name": "stdout",
     "output_type": "stream",
     "text": [
      "dict_keys(['name', 'age', 'address'])\n",
      "dict_values(['Krish', 35, 'India'])\n",
      "dict_items([('name', 'Krish'), ('age', 35), ('address', 'India')])\n"
     ]
    }
   ],
   "source": [
    "##Dictionaries Methods\n",
    "keys=student.keys() ##get all the keys\n",
    "print(keys)\n",
    "value=student.values() ##get all values\n",
    "print(value)\n",
    "\n",
    "\n",
    "items=student.items()\n",
    "print(items) #get list of tuples"
   ]
  },
  {
   "cell_type": "code",
   "execution_count": 21,
   "metadata": {},
   "outputs": [
    {
     "name": "stdout",
     "output_type": "stream",
     "text": [
      "{'name': 'Krish', 'age': 35, 'address': 'India'}\n",
      "{'name': 'Krish', 'age': 35, 'address': 'India'}\n",
      "{'name': 'Rahul', 'age': 35, 'address': 'India'}\n",
      "{'name': 'Rahul', 'age': 35, 'address': 'India'}\n"
     ]
    }
   ],
   "source": [
    "##Without Shallow Copy\n",
    "student_copy=student\n",
    "print(student)\n",
    "print(student_copy)\n",
    "\n",
    "student['name']=\"Rahul\"\n",
    "print(student)\n",
    "print(student_copy)"
   ]
  },
  {
   "cell_type": "code",
   "execution_count": 23,
   "metadata": {},
   "outputs": [
    {
     "name": "stdout",
     "output_type": "stream",
     "text": [
      "{'name': 'Rahul', 'age': 35, 'address': 'India'}\n",
      "{'name': 'Rahul', 'age': 35, 'address': 'India'}\n",
      "{'name': 'Satish', 'age': 35, 'address': 'India'}\n",
      "{'name': 'Rahul', 'age': 35, 'address': 'India'}\n"
     ]
    }
   ],
   "source": [
    "###With Shallow Copy\n",
    "student_copy=student.copy()\n",
    "print(student)\n",
    "print(student_copy)\n",
    "\n",
    "student['name']=\"Satish\"\n",
    "print(student)\n",
    "print(student_copy)"
   ]
  },
  {
   "cell_type": "code",
   "execution_count": 24,
   "metadata": {},
   "outputs": [
    {
     "name": "stdout",
     "output_type": "stream",
     "text": [
      "{'name': 'Satya', 'age': 35, 'address': 'India'}\n",
      "{'name': 'Rahul', 'age': 35, 'address': 'India'}\n"
     ]
    }
   ],
   "source": [
    "student[\"name\"]=\"Satya\"\n",
    "print(student)\n",
    "print(student_copy)"
   ]
  },
  {
   "cell_type": "code",
   "execution_count": 25,
   "metadata": {},
   "outputs": [
    {
     "name": "stdout",
     "output_type": "stream",
     "text": [
      "name\n",
      "age\n",
      "address\n"
     ]
    }
   ],
   "source": [
    "##Iterating Over Dictionaries\n",
    "##You can use loops iterate over dictionaries\n",
    "\n",
    "##Iteration over Keys\n",
    "for keys in student.keys():\n",
    "    print(keys)"
   ]
  },
  {
   "cell_type": "code",
   "execution_count": 26,
   "metadata": {},
   "outputs": [
    {
     "name": "stdout",
     "output_type": "stream",
     "text": [
      "Satya\n",
      "35\n",
      "India\n"
     ]
    }
   ],
   "source": [
    "##Iteration over Values\n",
    "for value in student.values():\n",
    "    print(value)"
   ]
  },
  {
   "cell_type": "code",
   "execution_count": 28,
   "metadata": {},
   "outputs": [
    {
     "name": "stdout",
     "output_type": "stream",
     "text": [
      "name:Satya\n",
      "age:35\n",
      "address:India\n"
     ]
    }
   ],
   "source": [
    "##Iterating over key value pairs\n",
    "for key,value in student.items():\n",
    "    print(f\"{key}:{value}\")"
   ]
  },
  {
   "cell_type": "code",
   "execution_count": 30,
   "metadata": {},
   "outputs": [
    {
     "name": "stdout",
     "output_type": "stream",
     "text": [
      "{'s1': {'name': 'rahul', 'age': 24}, 's2': {'name': 'satish', 'age': 22}, 's3': {'name': 'satya', 'age': 24}}\n"
     ]
    }
   ],
   "source": [
    "#Nested Dictionaries\n",
    "students={\n",
    "    \"s1\":{\"name\":\"rahul\",\"age\":24},\n",
    "    \"s2\":{\"name\":\"satish\",\"age\":22},\n",
    "    \"s3\":{\"name\":\"satya\",\"age\":24},\n",
    "}\n",
    "print(students)"
   ]
  },
  {
   "cell_type": "code",
   "execution_count": 32,
   "metadata": {},
   "outputs": [
    {
     "name": "stdout",
     "output_type": "stream",
     "text": [
      "satish\n",
      "22\n"
     ]
    }
   ],
   "source": [
    "##Access Nested Dictionaries Elements\n",
    "print(students[\"s2\"][\"name\"])\n",
    "print(students[\"s2\"][\"age\"])"
   ]
  },
  {
   "cell_type": "code",
   "execution_count": null,
   "metadata": {},
   "outputs": [
    {
     "name": "stdout",
     "output_type": "stream",
     "text": [
      "s1:{'name': 'rahul', 'age': 24}\n",
      "name:rahul\n",
      "age:24\n",
      "s2:{'name': 'satish', 'age': 22}\n",
      "name:satish\n",
      "age:22\n",
      "s3:{'name': 'satya', 'age': 24}\n",
      "name:satya\n",
      "age:24\n"
     ]
    }
   ],
   "source": [
    "##Iterating Over Nested dictionaries\n",
    "for student_id,student_info in students.items():\n",
    "    print(f\"{student_id}:{student_info}\")\n",
    "    for key,value in student_info.items():\n",
    "        print(f\"{key}:{value}\")"
   ]
  },
  {
   "cell_type": "code",
   "execution_count": 34,
   "metadata": {},
   "outputs": [
    {
     "name": "stdout",
     "output_type": "stream",
     "text": [
      "{0: 0, 1: 1, 2: 4, 3: 9, 4: 16}\n"
     ]
    }
   ],
   "source": [
    "##Dictionaries Comprehension\n",
    "squares={x:x**2 for x in range(5)}\n",
    "print(squares)"
   ]
  },
  {
   "cell_type": "code",
   "execution_count": 35,
   "metadata": {},
   "outputs": [
    {
     "name": "stdout",
     "output_type": "stream",
     "text": [
      "{0: 0, 2: 4, 4: 16, 6: 36, 8: 64}\n"
     ]
    }
   ],
   "source": [
    "##Conditional Dictionaries Comprehension\n",
    "even ={x:x**2 for x in range(10) if x%2==0}\n",
    "print(even)"
   ]
  },
  {
   "cell_type": "code",
   "execution_count": 36,
   "metadata": {},
   "outputs": [
    {
     "name": "stdout",
     "output_type": "stream",
     "text": [
      "{1: 1, 2: 2, 3: 3, 4: 4}\n"
     ]
    }
   ],
   "source": [
    "##Practical Examples\n",
    "##Use a dictionaries to count the frequency of element in list\n",
    "numbers =[1,2,2,3,3,3,4,4,4,4]\n",
    "freq={}\n",
    "for num in numbers:\n",
    "    if num in freq:\n",
    "        freq[num]+=1\n",
    "    else:\n",
    "        freq[num]=1\n",
    "\n",
    "print(freq)"
   ]
  },
  {
   "cell_type": "code",
   "execution_count": 37,
   "metadata": {},
   "outputs": [
    {
     "name": "stdout",
     "output_type": "stream",
     "text": [
      "{'a': 1, 'b': 3, 'c': 4}\n"
     ]
    }
   ],
   "source": [
    "##Merge 2 dictionaries into one\n",
    "dict1={\"a\":1,\"b\":2}\n",
    "dict2={\"b\":3,\"c\":4}\n",
    "merge_dict={**dict1, **dict2}\n",
    "print(merge_dict)"
   ]
  },
  {
   "cell_type": "code",
   "execution_count": null,
   "metadata": {},
   "outputs": [],
   "source": []
  }
 ],
 "metadata": {
  "kernelspec": {
   "display_name": "Python 3",
   "language": "python",
   "name": "python3"
  },
  "language_info": {
   "codemirror_mode": {
    "name": "ipython",
    "version": 3
   },
   "file_extension": ".py",
   "mimetype": "text/x-python",
   "name": "python",
   "nbconvert_exporter": "python",
   "pygments_lexer": "ipython3",
   "version": "3.12.0"
  }
 },
 "nbformat": 4,
 "nbformat_minor": 2
}
