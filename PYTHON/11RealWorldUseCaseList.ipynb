{
 "cells": [
  {
   "cell_type": "markdown",
   "metadata": {},
   "source": [
    "### Real World Use Cases Of List"
   ]
  },
  {
   "cell_type": "markdown",
   "metadata": {},
   "source": [
    "# Create a To Do List To Keep Track Of Tasks"
   ]
  },
  {
   "cell_type": "code",
   "execution_count": 5,
   "metadata": {},
   "outputs": [
    {
     "name": "stdout",
     "output_type": "stream",
     "text": [
      "['Going To library', 'Attend A Class', 'Having Lunch']\n",
      "['Going To library', 'Attend A Class', 'Having Lunch', 'Evening Snacks', 'Go To Temple']\n",
      "['Going To library', 'Attend A Class', 'Evening Snacks', 'Go To Temple']\n",
      "Do Not Forgot to attend the class\n",
      "To DO List Remaining\n",
      "-Going To library\n",
      "-Attend A Class\n",
      "-Evening Snacks\n",
      "-Go To Temple\n"
     ]
    }
   ],
   "source": [
    "to_do_list =[\"Going To library\",\"Attend A Class\",\"Having Lunch\"]\n",
    "print(to_do_list)\n",
    "\n",
    "##Adding To task\n",
    "to_do_list.append(\"Evening Snacks\")\n",
    "to_do_list.append(\"Go To Temple\")\n",
    "print(to_do_list)\n",
    "\n",
    "##Removing The Completed Task\n",
    "to_do_list.remove(\"Having Lunch\")\n",
    "print(to_do_list)\n",
    "\n",
    "if \"Attend A Class\" in to_do_list:\n",
    "    print(\"Do Not Forgot to attend the class\")\n",
    "\n",
    "\n",
    "print(\"To DO List Remaining\")\n",
    "for task in to_do_list:\n",
    "    print(f\"-{task}\")"
   ]
  },
  {
   "cell_type": "markdown",
   "metadata": {},
   "source": [
    "# Organizing Student Grades"
   ]
  },
  {
   "cell_type": "code",
   "execution_count": 8,
   "metadata": {},
   "outputs": [
    {
     "name": "stdout",
     "output_type": "stream",
     "text": [
      "Average Of Grades : 82.0\n",
      "Maximum: 99\n",
      "Minimum: 67\n"
     ]
    }
   ],
   "source": [
    "grades = [67,88,99,69,73]\n",
    "\n",
    "grades.append(96)\n",
    "\n",
    "average= sum(grades)/len(grades)\n",
    "print(f\"Average Of Grades : {average}\")\n",
    "\n",
    "maximum = max(grades)\n",
    "minimum = min(grades)\n",
    "\n",
    "print(f\"Maximum: {maximum}\")\n",
    "print(f\"Minimum: {minimum}\")"
   ]
  },
  {
   "cell_type": "markdown",
   "metadata": {},
   "source": [
    "# Managing an Inventory"
   ]
  },
  {
   "cell_type": "code",
   "execution_count": 12,
   "metadata": {},
   "outputs": [
    {
     "name": "stdout",
     "output_type": "stream",
     "text": [
      "['apple', 'bananas', 'kiwi', 'orange', 'Grapes']\n",
      "['apple', 'kiwi', 'orange', 'Grapes']\n"
     ]
    }
   ],
   "source": [
    "cart = [\"apple\",\"bananas\",\"kiwi\",\"orange\"]\n",
    "cart.append(\"Grapes\")\n",
    "print(cart)\n",
    "\n",
    "cart.remove(\"bananas\")\n",
    "print(cart)"
   ]
  },
  {
   "cell_type": "code",
   "execution_count": 15,
   "metadata": {},
   "outputs": [
    {
     "name": "stdout",
     "output_type": "stream",
     "text": [
      "Available\n",
      "Cart List\n",
      "-apple\n",
      "-kiwi\n",
      "-orange\n",
      "-Grapes\n"
     ]
    }
   ],
   "source": [
    "item =\"orange\"\n",
    "if item in cart:\n",
    "    print(\"Available\")\n",
    "else:\n",
    "    print(\"Not Available\")\n",
    "\n",
    "print(\"Cart List\")\n",
    "for item in cart:\n",
    "    print(f\"-{item}\")"
   ]
  },
  {
   "cell_type": "markdown",
   "metadata": {},
   "source": [
    "# Collect User Feedback"
   ]
  },
  {
   "cell_type": "code",
   "execution_count": 18,
   "metadata": {},
   "outputs": [
    {
     "name": "stdout",
     "output_type": "stream",
     "text": [
      "Positive Feedback Count: 2\n",
      "User Feedback:\n",
      "- Great service!\n",
      "- Very satisfied\n",
      "- Could be better\n",
      "- Excellent experience\n",
      "- Not happy with the service\n"
     ]
    }
   ],
   "source": [
    "# Collecting user feedback\n",
    "feedback = [\"Great service!\", \"Very satisfied\", \"Could be better\", \"Excellent experience\"]\n",
    "\n",
    "# Adding new feedback\n",
    "feedback.append(\"Not happy with the service\")\n",
    "\n",
    "# Counting specific feedback\n",
    "positive_feedback_count = sum(1 for comment in feedback if \"great\" in comment.lower() or \"excellent\" in comment.lower())\n",
    "print(f\"Positive Feedback Count: {positive_feedback_count}\")\n",
    "\n",
    "# Printing all feedback\n",
    "print(\"User Feedback:\")\n",
    "for comment in feedback:\n",
    "    print(f\"- {comment}\")\n"
   ]
  },
  {
   "cell_type": "code",
   "execution_count": null,
   "metadata": {},
   "outputs": [],
   "source": []
  },
  {
   "cell_type": "markdown",
   "metadata": {},
   "source": [
    "# Grocery List"
   ]
  },
  {
   "cell_type": "code",
   "execution_count": 19,
   "metadata": {},
   "outputs": [
    {
     "name": "stdout",
     "output_type": "stream",
     "text": [
      "['potato', 'brinjal', 'onion', 'oil', 'tomato', 'ginger']\n",
      "['potato', 'brinjal', 'onion', 'oil', 'tomato', 'ginger', 'cucumber', 'pampad', 'sugar', 'salt']\n",
      "['brinjal', 'onion', 'tomato', 'ginger', 'cucumber', 'pampad', 'sugar', 'salt']\n",
      "['brinjal', 'onion', 'tomato', 'ginger', 'cucumber', 'pampad', 'sugar', 'salt', 'tomato']\n"
     ]
    }
   ],
   "source": [
    "grocery =['potato','brinjal','onion','oil','tomato','ginger']\n",
    "\n",
    "print(grocery)\n",
    "#add\n",
    "grocery.append('cucumber')\n",
    "grocery.append('pampad')\n",
    "grocery.append('sugar')\n",
    "grocery.append('salt')\n",
    "\n",
    "print(grocery)\n",
    "\n",
    "#remove\n",
    "grocery.remove('potato')\n",
    "grocery.remove('oil')\n",
    "print(grocery)\n",
    "\n",
    "#no of itemm\n",
    "grocery.append('tomato')\n",
    "grocery.count('tomato')\n",
    "\n",
    "#index\n",
    "grocery.index('pampad')\n",
    "print(grocery)"
   ]
  },
  {
   "cell_type": "code",
   "execution_count": null,
   "metadata": {},
   "outputs": [],
   "source": []
  }
 ],
 "metadata": {
  "kernelspec": {
   "display_name": "Python 3",
   "language": "python",
   "name": "python3"
  },
  "language_info": {
   "codemirror_mode": {
    "name": "ipython",
    "version": 3
   },
   "file_extension": ".py",
   "mimetype": "text/x-python",
   "name": "python",
   "nbconvert_exporter": "python",
   "pygments_lexer": "ipython3",
   "version": "3.12.0"
  }
 },
 "nbformat": 4,
 "nbformat_minor": 2
}
