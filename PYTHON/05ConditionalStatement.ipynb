{
 "cells": [
  {
   "cell_type": "markdown",
   "metadata": {},
   "source": [
    "### Conditional Statement in Python"
   ]
  },
  {
   "cell_type": "code",
   "execution_count": 1,
   "metadata": {},
   "outputs": [
    {
     "name": "stdout",
     "output_type": "stream",
     "text": [
      "You are Eligible!\n"
     ]
    }
   ],
   "source": [
    "age=20\n",
    "if age>19:\n",
    "    print(\"You are Eligible!\")"
   ]
  },
  {
   "cell_type": "code",
   "execution_count": 4,
   "metadata": {},
   "outputs": [
    {
     "name": "stdout",
     "output_type": "stream",
     "text": [
      "Not Eligible!\n"
     ]
    }
   ],
   "source": [
    "age=12\n",
    "if age>20:\n",
    "    print(\"Eligible!\")\n",
    "else:\n",
    "    print(\"Not Eligible!\")"
   ]
  },
  {
   "cell_type": "code",
   "execution_count": 8,
   "metadata": {},
   "outputs": [
    {
     "name": "stdout",
     "output_type": "stream",
     "text": [
      "It is Zero\n"
     ]
    }
   ],
   "source": [
    "put=int(input(\"Enter Number:\"))\n",
    "if put>0:\n",
    "    print(\"It is Positive Number\")\n",
    "    if put%2==0:\n",
    "        print(\"Even Number\")\n",
    "    else:\n",
    "        print(\"Odd Number\")\n",
    "elif put==0:\n",
    "    print(\"It is Zero\")\n",
    "else:\n",
    "    print(\"It Is Negetive!\")\n"
   ]
  },
  {
   "cell_type": "code",
   "execution_count": null,
   "metadata": {},
   "outputs": [],
   "source": []
  },
  {
   "cell_type": "markdown",
   "metadata": {},
   "source": [
    "### Make a Simple Calculator"
   ]
  },
  {
   "cell_type": "code",
   "execution_count": 11,
   "metadata": {},
   "outputs": [
    {
     "name": "stdout",
     "output_type": "stream",
     "text": [
      "Division is:  3.0\n"
     ]
    }
   ],
   "source": [
    "num1=int(input(\"Enter Number 1: \"))\n",
    "num2=int(input(\"Enter Number 2: \"))\n",
    "operation =input(\"Enter '+','-','/','*'\")\n",
    "if operation=='+':\n",
    "    print(\"Adition is: \",num1+num2)\n",
    "elif operation=='-':\n",
    "    print(\"Substraction is: \",num1-num2)\n",
    "elif operation=='*':\n",
    "    print(\"Multiplication is: \",num1*num2)\n",
    "else:\n",
    "    if num2!=0:\n",
    "        print(\"Division is: \",num1/num2)\n",
    "    else:\n",
    "        print(\"Not a valid operation\")"
   ]
  },
  {
   "cell_type": "code",
   "execution_count": null,
   "metadata": {},
   "outputs": [],
   "source": []
  }
 ],
 "metadata": {
  "kernelspec": {
   "display_name": "Python 3",
   "language": "python",
   "name": "python3"
  },
  "language_info": {
   "codemirror_mode": {
    "name": "ipython",
    "version": 3
   },
   "file_extension": ".py",
   "mimetype": "text/x-python",
   "name": "python",
   "nbconvert_exporter": "python",
   "pygments_lexer": "ipython3",
   "version": "3.12.0"
  }
 },
 "nbformat": 4,
 "nbformat_minor": 2
}
