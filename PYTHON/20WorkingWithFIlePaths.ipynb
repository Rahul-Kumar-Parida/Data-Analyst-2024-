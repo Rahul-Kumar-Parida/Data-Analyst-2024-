{
 "cells": [
  {
   "cell_type": "markdown",
   "metadata": {},
   "source": [
    "### Working With File Paths"
   ]
  },
  {
   "cell_type": "code",
   "execution_count": 1,
   "metadata": {},
   "outputs": [
    {
     "name": "stdout",
     "output_type": "stream",
     "text": [
      "Directory 'package' create\n"
     ]
    }
   ],
   "source": [
    "## create a new directory \n",
    "new_directory = 'package'\n",
    "import os\n",
    "os.mkdir(new_directory)\n",
    "print(f\"Directory '{new_directory}' create\")"
   ]
  },
  {
   "cell_type": "code",
   "execution_count": 2,
   "metadata": {},
   "outputs": [
    {
     "name": "stdout",
     "output_type": "stream",
     "text": [
      "['01SyntaxAndSemantics.ipynb', '02VariablesInPython.ipynb', '03DatatypesInPython.ipynb', '04OperatorsInPython.ipynb', '05ConditionalStatement.ipynb', '06LoopsInPython.ipynb', '07ListAndListCompreshive.ipynb', '08TuplesInPython.ipynb', '09SetsInPython.ipynb', '10DictionariesInPython.ipynb', '11RealWorldUseCaseList.ipynb', '12FunctionsInPython.ipynb', '13FunctionsExamples.ipynb', '14LambadaFunction.ipynb', '15TheMapFunction.ipynb', '16TheFilterFunction.ipynb', '17ImportModulesandPackages.ipynb', '18PyhonLibraryOverview.ipynb', '19FileOperationInPython.ipynb', '20WorkingWithFIlePaths.ipynb', 'ASSIGNMENT', 'copyfile.txt', 'costume-module', 'destination.txt', 'examp.bin', 'example.csv', 'package', 'requirments.txt', 'test_dir', 'venv']\n"
     ]
    }
   ],
   "source": [
    "## Listing Files and Directories\n",
    "\n",
    "items=os.listdir('.')\n",
    "print(items)"
   ]
  },
  {
   "cell_type": "code",
   "execution_count": 3,
   "metadata": {},
   "outputs": [
    {
     "name": "stdout",
     "output_type": "stream",
     "text": [
      "folder\\file.txt\n"
     ]
    }
   ],
   "source": [
    "##Joining Paths\n",
    "\n",
    "dir_name = 'folder'\n",
    "file_name = 'file.txt'\n",
    "full_path = os.path.join(dir_name,file_name)\n",
    "print(full_path)\n"
   ]
  },
  {
   "cell_type": "code",
   "execution_count": 5,
   "metadata": {},
   "outputs": [
    {
     "name": "stdout",
     "output_type": "stream",
     "text": [
      "d:\\Users\\rahul\\DATA ANALYST 2024\\PYTHON\\folder\\file.txt\n"
     ]
    }
   ],
   "source": [
    "#makin path\n",
    "dir_name = 'folder'\n",
    "file_name = 'file.txt'\n",
    "full_path = os.path.join(os.getcwd(),dir_name,file_name)\n",
    "print(full_path)"
   ]
  },
  {
   "cell_type": "code",
   "execution_count": 6,
   "metadata": {},
   "outputs": [
    {
     "name": "stdout",
     "output_type": "stream",
     "text": [
      "The path 'example1.txt' does not exist\n"
     ]
    }
   ],
   "source": [
    "path='example1.txt'\n",
    "if os.path.exists(path):\n",
    "    print(f\"The path '{path}' exist\")\n",
    "else:\n",
    "    print(f\"The path '{path}' does not exist\")"
   ]
  },
  {
   "cell_type": "code",
   "execution_count": 7,
   "metadata": {},
   "outputs": [
    {
     "name": "stdout",
     "output_type": "stream",
     "text": [
      "The Path 'requirments.txt' is a file\n"
     ]
    }
   ],
   "source": [
    "#Checking if a path is a file or Directory\n",
    "\n",
    "path ='requirments.txt'\n",
    "\n",
    "if os.path.isfile(path):\n",
    "    print(f\"The Path '{path}' is a file\")\n",
    "elif os.path.isdir(path):\n",
    "    print(f\"The Path '{path}' is a directory\")\n",
    "else:\n",
    "    print(f\"The Path '{path}' is a  neither a file nor a directory\")"
   ]
  },
  {
   "cell_type": "code",
   "execution_count": 10,
   "metadata": {},
   "outputs": [
    {
     "name": "stdout",
     "output_type": "stream",
     "text": [
      "d:\\Users\\rahul\\DATA ANALYST 2024\\PYTHON\\requirments.txt\n"
     ]
    }
   ],
   "source": [
    "## Getting The absolute Path\n",
    "relative_path ='requirments.txt'\n",
    "absolute_path=os.path.abspath(relative_path)\n",
    "print(absolute_path)"
   ]
  },
  {
   "cell_type": "code",
   "execution_count": null,
   "metadata": {},
   "outputs": [],
   "source": []
  }
 ],
 "metadata": {
  "kernelspec": {
   "display_name": "Python 3",
   "language": "python",
   "name": "python3"
  },
  "language_info": {
   "codemirror_mode": {
    "name": "ipython",
    "version": 3
   },
   "file_extension": ".py",
   "mimetype": "text/x-python",
   "name": "python",
   "nbconvert_exporter": "python",
   "pygments_lexer": "ipython3",
   "version": "3.12.0"
  }
 },
 "nbformat": 4,
 "nbformat_minor": 2
}
