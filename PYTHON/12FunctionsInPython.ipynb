{
 "cells": [
  {
   "cell_type": "markdown",
   "metadata": {},
   "source": [
    "## Functions In Python"
   ]
  },
  {
   "cell_type": "markdown",
   "metadata": {},
   "source": [
    "1) introduction to function"
   ]
  },
  {
   "cell_type": "code",
   "execution_count": 1,
   "metadata": {},
   "outputs": [],
   "source": [
    "#A function is block of code that performs various task. Functions help in organizing code, reusing code, and improving readability."
   ]
  },
  {
   "cell_type": "code",
   "execution_count": null,
   "metadata": {},
   "outputs": [],
   "source": [
    "#syntax\n",
    "def function_name(parameter):\n",
    "    \"\"\"Docstring\"\"\"\n",
    "    #function body\n",
    "    return expression\n"
   ]
  },
  {
   "cell_type": "code",
   "execution_count": 4,
   "metadata": {},
   "outputs": [
    {
     "name": "stdout",
     "output_type": "stream",
     "text": [
      "the number is even\n"
     ]
    }
   ],
   "source": [
    "#why Function\n",
    "num =24\n",
    "if num%2==0:\n",
    "    print(\"the number is even\")\n",
    "else:\n",
    "    print(\"the number is odd\")\n",
    "\n"
   ]
  },
  {
   "cell_type": "code",
   "execution_count": null,
   "metadata": {},
   "outputs": [
    {
     "name": "stdout",
     "output_type": "stream",
     "text": [
      "the number is even\n",
      "the number is odd\n",
      "the number is odd\n",
      "the number is even\n",
      "the number is even\n"
     ]
    }
   ],
   "source": [
    "def even_odd(num):\n",
    "    \"\"\"THis function finds even or odd\"\"\"\n",
    "    if num%2==0:\n",
    "        print(\"the number is even\")\n",
    "    else:\n",
    "        print(\"the number is odd\")\n",
    "\n",
    "#Call this function\n",
    "even_odd(24)\n",
    "even_odd(13)\n",
    "even_odd(39)\n",
    "even_odd(0)\n",
    "even_odd(28)"
   ]
  },
  {
   "cell_type": "code",
   "execution_count": null,
   "metadata": {},
   "outputs": [
    {
     "name": "stdout",
     "output_type": "stream",
     "text": [
      "5\n",
      "11\n"
     ]
    }
   ],
   "source": [
    "#Function With Multiple Parameters.\n",
    "def add(a,b):\n",
    "    return a+b \n",
    "\n",
    "print(add(2,3)) #5\n",
    "result = add(5,6)\n",
    "print(result) #11"
   ]
  },
  {
   "cell_type": "code",
   "execution_count": 11,
   "metadata": {},
   "outputs": [
    {
     "name": "stdout",
     "output_type": "stream",
     "text": [
      "Hello rahul welcome To Spuja Foods\n"
     ]
    }
   ],
   "source": [
    "#Without Default Parameters\n",
    "def greet(name):\n",
    "    print(f\"Hello {name} welcome To Spuja Foods\")\n",
    "\n",
    "greet(\"rahul\") #no error\n",
    "# greet() #got error\n",
    "\n"
   ]
  },
  {
   "cell_type": "code",
   "execution_count": null,
   "metadata": {},
   "outputs": [
    {
     "name": "stdout",
     "output_type": "stream",
     "text": [
      "Hello rahul welcome To Spuja Foods\n",
      "Hello Guest welcome To Spuja Foods\n"
     ]
    }
   ],
   "source": [
    "#With Default Parameters\n",
    "def greet(name='Guest'):\n",
    "    print(f\"Hello {name} welcome To Spuja Foods\")\n",
    "\n",
    "greet(\"rahul\") #no error\n",
    "greet() #no error\n",
    "\n"
   ]
  },
  {
   "cell_type": "code",
   "execution_count": 14,
   "metadata": {},
   "outputs": [
    {
     "name": "stdout",
     "output_type": "stream",
     "text": [
      "1 2 3 45 5 6 7 8 rahul kumar\n"
     ]
    }
   ],
   "source": [
    "# Variable Length Arguments\n",
    "#Positional And Keyword Arguments\n",
    "\n",
    "def print_numbers(*rahul):\n",
    "    for num in rahul:\n",
    "        print(num)\n",
    "\n",
    "print(1,2,3,45,5,6,7,8,\"rahul\",\"kumar\")"
   ]
  },
  {
   "cell_type": "code",
   "execution_count": null,
   "metadata": {},
   "outputs": [
    {
     "name": "stdout",
     "output_type": "stream",
     "text": [
      "1 2 3 45 5 6 7 8 rahul kumar\n"
     ]
    }
   ],
   "source": [
    "#Positional Arguments [*args]\n",
    "def print_numbers(*args):\n",
    "    for num in args:\n",
    "        print(num)\n",
    "print(1,2,3,45,5,6,7,8,\"rahul\",\"kumar\")"
   ]
  },
  {
   "cell_type": "code",
   "execution_count": null,
   "metadata": {},
   "outputs": [
    {
     "name": "stdout",
     "output_type": "stream",
     "text": [
      "name:Rahul\n",
      "age:34\n",
      "country:India\n"
     ]
    }
   ],
   "source": [
    "#keyword Argument [**kwargs]\n",
    "def print_details(**kwargs):\n",
    "    for key,value in kwargs.items():\n",
    "        print(f\"{key}:{value}\")\n",
    "\n",
    "print_details(name=\"Rahul\",age=34,country=\"India\")"
   ]
  },
  {
   "cell_type": "code",
   "execution_count": 19,
   "metadata": {},
   "outputs": [
    {
     "name": "stdout",
     "output_type": "stream",
     "text": [
      "Positional Argument:1\n",
      "Positional Argument:2\n",
      "Positional Argument:3\n",
      "Positional Argument:4\n",
      "Positional Argument:5\n",
      "name:Rahul\n",
      "age:34\n",
      "country:India\n"
     ]
    }
   ],
   "source": [
    "#combine both Argument [*args, **kwargs]\n",
    "def print_details(*args, **kwargs):\n",
    "    for val in args:\n",
    "        print(f\"Positional Argument:{val}\")\n",
    "    for key,value in kwargs.items():\n",
    "        print(f\"{key}:{value}\")\n",
    "\n",
    "print_details(1,2,3,4,5,name=\"Rahul\",age=34,country=\"India\")"
   ]
  },
  {
   "cell_type": "code",
   "execution_count": 20,
   "metadata": {},
   "outputs": [
    {
     "data": {
      "text/plain": [
       "20"
      ]
     },
     "execution_count": 20,
     "metadata": {},
     "output_type": "execute_result"
    }
   ],
   "source": [
    "#return Statements\n",
    "def multiply(a,b):\n",
    "    return a*b\n",
    "multiply(4,5)"
   ]
  },
  {
   "cell_type": "code",
   "execution_count": 22,
   "metadata": {},
   "outputs": [
    {
     "data": {
      "text/plain": [
       "(12, 3)"
      ]
     },
     "execution_count": 22,
     "metadata": {},
     "output_type": "execute_result"
    }
   ],
   "source": [
    "#return Multiple parameters\n",
    "def multiple(a,b):\n",
    "    return a*b,a\n",
    "\n",
    "multiple(3,4)"
   ]
  },
  {
   "cell_type": "code",
   "execution_count": null,
   "metadata": {},
   "outputs": [],
   "source": []
  }
 ],
 "metadata": {
  "kernelspec": {
   "display_name": "Python 3",
   "language": "python",
   "name": "python3"
  },
  "language_info": {
   "codemirror_mode": {
    "name": "ipython",
    "version": 3
   },
   "file_extension": ".py",
   "mimetype": "text/x-python",
   "name": "python",
   "nbconvert_exporter": "python",
   "pygments_lexer": "ipython3",
   "version": "3.12.0"
  }
 },
 "nbformat": 4,
 "nbformat_minor": 2
}
