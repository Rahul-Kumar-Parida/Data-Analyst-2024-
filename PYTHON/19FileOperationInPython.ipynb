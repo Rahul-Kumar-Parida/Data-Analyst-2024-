{
 "cells": [
  {
   "cell_type": "markdown",
   "metadata": {},
   "source": [
    "## File Operation In Python"
   ]
  },
  {
   "cell_type": "markdown",
   "metadata": {},
   "source": [
    "File Handiling is a crucial part of any programming language. Pyhton provides built in functions and methods to read from and write to files, both text and binary files.\n"
   ]
  },
  {
   "cell_type": "code",
   "execution_count": 1,
   "metadata": {},
   "outputs": [
    {
     "name": "stdout",
     "output_type": "stream",
     "text": [
      "ipykernal\n",
      "hello my name is rahul, and what is most expensive thing in my room\n"
     ]
    }
   ],
   "source": [
    "# read a whole file\n",
    "\n",
    "with open('requirments.txt','r') as file:\n",
    "    content=file.read()\n",
    "    print(content)"
   ]
  },
  {
   "cell_type": "code",
   "execution_count": 4,
   "metadata": {},
   "outputs": [
    {
     "name": "stdout",
     "output_type": "stream",
     "text": [
      "ipykernal\n",
      "hello my name is rahul\n",
      "and what is most\n",
      "expensive thing in my room\n"
     ]
    }
   ],
   "source": [
    "#read a file line by line\n",
    "with open('requirments.txt','r') as file:\n",
    "    for line in file:\n",
    "        print(line.strip()) # strip() removes the newline character\n",
    "\n",
    "        "
   ]
  },
  {
   "cell_type": "code",
   "execution_count": 5,
   "metadata": {},
   "outputs": [],
   "source": [
    "## Writing a file (overwriting means replace)\n",
    "with open('copyfile.txt','w') as file:\n",
    "    file.write('Hello World!\\n')\n",
    "    file.write('This is a new line')\n"
   ]
  },
  {
   "cell_type": "code",
   "execution_count": 6,
   "metadata": {},
   "outputs": [],
   "source": [
    "## Writitng a file (without overwriting )\n",
    "\n",
    "with open('copyfile.txt','a') as file:\n",
    "    file.write(\"\\n Append operation taking place!\")"
   ]
  },
  {
   "cell_type": "code",
   "execution_count": null,
   "metadata": {},
   "outputs": [],
   "source": [
    "## Writing a list of lines to a file\n",
    "lines =['First Line\\n','Second Line\\n','Third line\\n']\n",
    "\n",
    "with open('copyfile.txt','a') as file:\n",
    "    file.writelines(lines)\n",
    "    "
   ]
  },
  {
   "cell_type": "code",
   "execution_count": 9,
   "metadata": {},
   "outputs": [],
   "source": [
    "#Writing a Binary File\n",
    "data =b'\\x00\\x01\\x02\\x03\\x04'\n",
    "with open('examp.bin','wb') as file:\n",
    "    file.write(data)"
   ]
  },
  {
   "cell_type": "code",
   "execution_count": 11,
   "metadata": {},
   "outputs": [
    {
     "name": "stdout",
     "output_type": "stream",
     "text": [
      "b'\\x00\\x01\\x02\\x03\\x04'\n"
     ]
    }
   ],
   "source": [
    "#reading a Binary File\n",
    "\n",
    "with open('examp.bin','rb') as file:\n",
    "    content=file.read()\n",
    "    print(content)"
   ]
  },
  {
   "cell_type": "code",
   "execution_count": 12,
   "metadata": {},
   "outputs": [],
   "source": [
    "## Read the content from source text file and write to a destination text file.\n",
    "\n",
    "#copying a text file\n",
    "with open('requirments.txt','r') as source_file:\n",
    "    content=source_file.read()\n",
    "\n",
    "with open('destination.txt','w') as destination_file:\n",
    "    destination_file.write(content)"
   ]
  },
  {
   "cell_type": "code",
   "execution_count": 14,
   "metadata": {},
   "outputs": [
    {
     "name": "stdout",
     "output_type": "stream",
     "text": [
      "ipykernal\n",
      "hello my name is rahul\n",
      "and what is most \n",
      "expensive thing in my room\n"
     ]
    }
   ],
   "source": [
    "with open('destination.txt','r') as source_file:\n",
    "    content=source_file.read()\n",
    "    print(content)"
   ]
  },
  {
   "cell_type": "code",
   "execution_count": 15,
   "metadata": {},
   "outputs": [
    {
     "name": "stdout",
     "output_type": "stream",
     "text": [
      "Lines: 4 , words: 15 , characters: 77\n"
     ]
    }
   ],
   "source": [
    "#read a text and count the number of lines, words, and characters.\n",
    "\n",
    "def count_text_files(file_path):\n",
    "    with open(file_path,'r') as file:\n",
    "        lines=file.readlines()\n",
    "        line_count=len(lines)\n",
    "        word_count=sum(len(line.split()) for line in lines)\n",
    "        char_count=sum(len(line) for line in lines) \n",
    "    return line_count, word_count, char_count\n",
    "\n",
    "file_path ='requirments.txt'\n",
    "lines, words, char = count_text_files(file_path)\n",
    "print(f\"Lines: {lines} , words: {words} , characters: {char}\")"
   ]
  },
  {
   "cell_type": "code",
   "execution_count": 16,
   "metadata": {},
   "outputs": [
    {
     "name": "stdout",
     "output_type": "stream",
     "text": [
      "Hello World\n",
      "Now I am going To college\n"
     ]
    }
   ],
   "source": [
    "## Writing and then reading a file\n",
    "with open('copyfile.txt','w+') as file:\n",
    "    file.write(\"Hello World\\n\")\n",
    "    file.write(\"Now I am going To college\")\n",
    "\n",
    "    #move the File Cursor to the beginning\n",
    "    file.seek(0)\n",
    "\n",
    "    #Read The content of the dile\n",
    "    content=file.read()\n",
    "    print(content)"
   ]
  },
  {
   "cell_type": "code",
   "execution_count": null,
   "metadata": {},
   "outputs": [],
   "source": []
  }
 ],
 "metadata": {
  "kernelspec": {
   "display_name": "Python 3",
   "language": "python",
   "name": "python3"
  },
  "language_info": {
   "codemirror_mode": {
    "name": "ipython",
    "version": 3
   },
   "file_extension": ".py",
   "mimetype": "text/x-python",
   "name": "python",
   "nbconvert_exporter": "python",
   "pygments_lexer": "ipython3",
   "version": "3.12.0"
  }
 },
 "nbformat": 4,
 "nbformat_minor": 2
}
