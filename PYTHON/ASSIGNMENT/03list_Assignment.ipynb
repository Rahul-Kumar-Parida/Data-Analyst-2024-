{
 "cells": [
  {
   "cell_type": "markdown",
   "metadata": {},
   "source": [
    "# Module 3: Data Structures Assignments\n",
    "## Lesson 3.1: Lists\n",
    "### Assignment 1: Creating and Accessing Lists\n",
    "\n",
    "Create a list of the first 20 positive integers. Print the list.\n"
   ]
  },
  {
   "cell_type": "code",
   "execution_count": 29,
   "id": "dfd13401",
   "metadata": {},
   "outputs": [
    {
     "name": "stdout",
     "output_type": "stream",
     "text": [
      "[1, 2, 3, 4, 5, 6, 7, 8, 9, 10, 11, 12, 13, 14, 15, 16, 17, 18, 19, 20]\n",
      "[1, 2, 3, 4, 5, 6, 7, 8, 9, 10, 11, 12, 13, 14, 15, 16, 17, 18, 19, 20]\n"
     ]
    }
   ],
   "source": [
    "lst =[1,2,3,4,5,6,7,8,9,10,11,12,13,14,15,16,17,18,19,20]\n",
    "print(lst)\n",
    "lstt =list(range(1,21))\n",
    "print(lstt)"
   ]
  },
  {
   "cell_type": "markdown",
   "id": "f8c18aba",
   "metadata": {},
   "source": [
    "\n",
    "\n",
    "### Assignment 2: Accessing List Elements\n",
    "\n",
    "Print the first, middle, and last elements of the list created in Assignment 1.\n"
   ]
  },
  {
   "cell_type": "code",
   "execution_count": 30,
   "id": "44f57a55",
   "metadata": {},
   "outputs": [
    {
     "name": "stdout",
     "output_type": "stream",
     "text": [
      "1\n",
      "20\n",
      "11\n"
     ]
    }
   ],
   "source": [
    "print(lst[0]) #first element\n",
    "print(lst[-1]) #last element\n",
    "print(lst[len(lst)//2]) #middle element"
   ]
  },
  {
   "cell_type": "markdown",
   "id": "b9873acf",
   "metadata": {},
   "source": [
    "\n",
    "### Assignment 3: List Slicing\n",
    "\n",
    "Print the first five elements, the last five elements, and the elements from index 5 to 15 of the list created in Assignment 1.\n"
   ]
  },
  {
   "cell_type": "code",
   "execution_count": 31,
   "id": "9624613f",
   "metadata": {},
   "outputs": [
    {
     "name": "stdout",
     "output_type": "stream",
     "text": [
      "[1, 2, 3, 4, 5]\n",
      "[16, 17, 18, 19, 20]\n",
      "[6, 7, 8, 9, 10, 11, 12, 13, 14, 15, 16]\n"
     ]
    }
   ],
   "source": [
    "print(lst[:5])\n",
    "print(lst[-5:])\n",
    "print(lst[5:16])"
   ]
  },
  {
   "cell_type": "markdown",
   "id": "be66f626",
   "metadata": {},
   "source": [
    "\n",
    "### Assignment 4: List Comprehensions\n",
    "\n",
    "Create a new list containing the squares of the first 10 positive integers using a list comprehension. Print the new list.\n"
   ]
  },
  {
   "cell_type": "code",
   "execution_count": 32,
   "id": "941269af",
   "metadata": {},
   "outputs": [
    {
     "name": "stdout",
     "output_type": "stream",
     "text": [
      "[1, 4, 9, 16, 25, 36, 49, 64, 81, 100]\n",
      "[1, 4, 9, 16, 25, 36, 49, 64, 81, 100]\n"
     ]
    }
   ],
   "source": [
    "newlst=[]\n",
    "for i in range(1,11):\n",
    "    newlst.append(i**2)\n",
    "print(newlst)\n",
    "\n",
    "squares = [x**2 for x in range(1,11)]\n",
    "print(squares)"
   ]
  },
  {
   "cell_type": "markdown",
   "id": "570e9f5f",
   "metadata": {},
   "source": [
    "\n",
    "### Assignment 5: Filtering Lists\n",
    "\n",
    "Create a new list containing only the even numbers from the list created in Assignment 1 using a list comprehension. Print the new list.\n"
   ]
  },
  {
   "cell_type": "code",
   "execution_count": 14,
   "id": "991aa04a",
   "metadata": {},
   "outputs": [
    {
     "name": "stdout",
     "output_type": "stream",
     "text": [
      "[2, 4, 6, 8, 10, 12, 14, 16, 18, 20]\n"
     ]
    }
   ],
   "source": [
    "lst1=[i for i in lst if i%2==0]\n",
    "print(lst1)"
   ]
  },
  {
   "cell_type": "markdown",
   "id": "7f7a8143",
   "metadata": {},
   "source": [
    "\n",
    "### Assignment 6: List Methods\n",
    "\n",
    "Create a list of random numbers and sort it in ascending and descending order. Remove the duplicates from the list and print the modified list.\n"
   ]
  },
  {
   "cell_type": "code",
   "execution_count": 39,
   "id": "3a4b77e5",
   "metadata": {},
   "outputs": [
    {
     "name": "stdout",
     "output_type": "stream",
     "text": [
      "Original List is: [5, 3, 4, 14, 15, 20, 14, 2, 10, 19]\n",
      "[2, 3, 4, 5, 10, 14, 14, 15, 19, 20]\n",
      "[20, 19, 15, 14, 14, 10, 5, 4, 3, 2]\n",
      "[2, 3, 4, 5, 10, 14, 15, 19, 20]\n"
     ]
    }
   ],
   "source": [
    "import random\n",
    "\n",
    "randomNumber=[random.randint(1,20) for _ in range(10)]\n",
    "print(f\"Original List is: {randomNumber}\")\n",
    "sortedNumber = sorted(randomNumber)\n",
    "print(sortedNumber)\n",
    "sortedNumberDesc=sorted(randomNumber, reverse=True)\n",
    "print(sortedNumberDesc)\n",
    "uniqueNumber=list(set(randomNumber))\n",
    "print(uniqueNumber)\n"
   ]
  },
  {
   "cell_type": "markdown",
   "id": "778461df",
   "metadata": {},
   "source": [
    "\n",
    "### Assignment 7: Nested Lists\n",
    "\n",
    "Create a nested list representing a 3x3 matrix and print the matrix. Access and print the element at the second row and third column.\n"
   ]
  },
  {
   "cell_type": "code",
   "execution_count": 42,
   "id": "87eb1c20",
   "metadata": {},
   "outputs": [
    {
     "name": "stdout",
     "output_type": "stream",
     "text": [
      "[[1, 2, 3], [4, 5, 6], [7, 8, 9]]\n",
      "[1, 2, 3]\n",
      "[4, 5, 6]\n",
      "[7, 8, 9]\n",
      "6\n"
     ]
    }
   ],
   "source": [
    "matrix=[[1,2,3],[4,5,6],[7,8,9]]\n",
    "print(matrix)\n",
    "\n",
    "for row in matrix:\n",
    "    print(row)\n",
    "print(matrix[1][2])"
   ]
  },
  {
   "cell_type": "markdown",
   "id": "cbd4b6aa",
   "metadata": {},
   "source": [
    "\n",
    "### Assignment 8: List of Dictionaries\n",
    "\n",
    "Create a list of dictionaries where each dictionary represents a student with keys 'name' and 'score'. Sort the list of dictionaries by the 'score' in descending order and print the sorted list.\n"
   ]
  },
  {
   "cell_type": "code",
   "execution_count": 43,
   "id": "7f54b12f",
   "metadata": {},
   "outputs": [
    {
     "name": "stdout",
     "output_type": "stream",
     "text": [
      "{'name': 'Charlie', 'score': 96}\n",
      "{'name': 'Alice', 'score': 88}\n",
      "{'name': 'Eve', 'score': 78}\n",
      "{'name': 'David', 'score': 65}\n",
      "{'name': 'Bob', 'score': 54}\n"
     ]
    }
   ],
   "source": [
    "students=[{'name':'Alice','score':88},\n",
    "          {'name':'Bob','score':54},\n",
    "          {'name':'Charlie','score':96},\n",
    "          {'name':'David','score':65},\n",
    "          {'name':'Eve','score':78},]\n",
    "sorted_student = sorted(students,key=lambda x:x['score'],reverse=True)\n",
    "for student in sorted_student:\n",
    "    print(student)"
   ]
  },
  {
   "cell_type": "markdown",
   "id": "637a5a83",
   "metadata": {},
   "source": [
    "\n",
    "### Assignment 9: Matrix Transposition\n",
    "\n",
    "Write a function that takes a 3x3 matrix (nested list) as input and returns its transpose. Print the original and transposed matrices.\n"
   ]
  },
  {
   "cell_type": "code",
   "execution_count": 48,
   "id": "e98051f7",
   "metadata": {},
   "outputs": [
    {
     "name": "stdout",
     "output_type": "stream",
     "text": [
      "[1, 2, 3]\n",
      "[3, 5, 6]\n",
      "[7, 8, 9]\n",
      "[1, 3, 7]\n",
      "[2, 5, 8]\n",
      "[3, 6, 9]\n"
     ]
    }
   ],
   "source": [
    "def transpose_matrix(matrix):\n",
    "    transposed=[[matrix[j][i] for j in range(len(matrix))] for i in range(len(matrix[0]))]\n",
    "\n",
    "    return transposed\n",
    "\n",
    "matrix=[[1,2,3],[3,5,6],[7,8,9]]\n",
    "\n",
    "transpose=transpose_matrix(matrix)\n",
    "\n",
    "for row in matrix:\n",
    "    print(row)\n",
    "\n",
    "for row in transpose:\n",
    "    print(row)\n"
   ]
  },
  {
   "cell_type": "markdown",
   "id": "4947f8f2",
   "metadata": {},
   "source": [
    "\n",
    "### Assignment 10: Flattening a Nested List\n",
    "\n",
    "Write a function that takes a nested list and flattens it into a single list. Print the original and flattened lists.\n"
   ]
  },
  {
   "cell_type": "code",
   "execution_count": 2,
   "id": "b7a65fdc",
   "metadata": {},
   "outputs": [
    {
     "name": "stdout",
     "output_type": "stream",
     "text": [
      "Original List:\n",
      "[[1, 2, 3], [4, 5, 6], [7, 8, 9]]\n",
      "Flattened List\n",
      "[1, 2, 3, 4, 5, 6, 7, 8, 9]\n"
     ]
    }
   ],
   "source": [
    "def flatten_list(nested_list):\n",
    "    flat_list=[i for sublist in nested_list for i in sublist]\n",
    "    return flat_list\n",
    "\n",
    "nested_list=[[1,2,3],[4,5,6],[7,8,9]]\n",
    "flattend=flatten_list(nested_list)\n",
    "print(\"Original List:\")\n",
    "print(nested_list)\n",
    "print(\"Flattened List\")\n",
    "print(flattend)"
   ]
  },
  {
   "cell_type": "markdown",
   "id": "e892ab9d",
   "metadata": {},
   "source": [
    "\n",
    "### Assignment 11: List Manipulation\n",
    "\n",
    "Create a list of the first 10 positive integers. Remove the elements at indices 2, 4, and 6, and insert the element '99' at index 5. Print the modified list.\n"
   ]
  },
  {
   "cell_type": "code",
   "execution_count": 4,
   "id": "f49a2c5a",
   "metadata": {},
   "outputs": [
    {
     "name": "stdout",
     "output_type": "stream",
     "text": [
      "[1, 2, 4, 5, 7, 99, 8]\n"
     ]
    }
   ],
   "source": [
    "lst3=[1,2,3,4,5,6,7,8,9,10]\n",
    "lst3.remove(lst3[2])\n",
    "lst3.remove(lst3[4])\n",
    "lst3.remove(lst3[6])\n",
    "lst3.insert(5,99)\n",
    "del lst3[7]\n",
    "print(lst3)"
   ]
  },
  {
   "cell_type": "markdown",
   "id": "1d5255c7",
   "metadata": {},
   "source": [
    "\n",
    "### Assignment 12: List Zipping\n",
    "\n",
    "Create two lists of the same length. Use the `zip` function to combine these lists into a list of tuples and print the result.\n"
   ]
  },
  {
   "cell_type": "code",
   "execution_count": 7,
   "id": "ebb7a02c",
   "metadata": {},
   "outputs": [
    {
     "name": "stdout",
     "output_type": "stream",
     "text": [
      "List Of Tuple: \n",
      "[(3, 'a'), (4, 'b'), (5, 'c'), (6, 'd'), (7, 'e')]\n"
     ]
    }
   ],
   "source": [
    "l1=[3,4,5,6,7]\n",
    "l2=['a','b','c','d','e']\n",
    "zipped=list(zip(l1,l2))\n",
    "print(\"List Of Tuple: \")\n",
    "print(zipped)"
   ]
  },
  {
   "cell_type": "markdown",
   "id": "4ae4df9b",
   "metadata": {},
   "source": [
    "\n",
    "### Assignment 13: List Reversal\n",
    "\n",
    "Write a function that takes a list and returns a new list with the elements in reverse order. Print the original and reversed lists.\n"
   ]
  },
  {
   "cell_type": "code",
   "execution_count": 8,
   "id": "1d64bfbc",
   "metadata": {},
   "outputs": [
    {
     "name": "stdout",
     "output_type": "stream",
     "text": [
      "Original:  [2, 3, 4, 5, 6]\n",
      "Reverse: [6, 5, 4, 3, 2]\n"
     ]
    }
   ],
   "source": [
    "def reverseList(lst):\n",
    "    return lst[::-1]\n",
    "\n",
    "original_lst=[2,3,4,5,6]\n",
    "reverse=reverseList(original_lst)\n",
    "print(\"Original: \",original_lst)\n",
    "print(\"Reverse:\",reverse)"
   ]
  },
  {
   "cell_type": "markdown",
   "id": "5919aa44",
   "metadata": {},
   "source": [
    "\n",
    "### Assignment 14: List Rotation\n",
    "\n",
    "Write a function that rotates a list by n positions. Print the original and rotated lists.\n"
   ]
  },
  {
   "cell_type": "code",
   "execution_count": 10,
   "id": "95bf134c",
   "metadata": {},
   "outputs": [
    {
     "name": "stdout",
     "output_type": "stream",
     "text": [
      "Original:[2, 3, 4, 5, 6] \n",
      "Rotated lst:[4, 5, 6, 2, 3] \n"
     ]
    }
   ],
   "source": [
    "def rotate_lst(lst,n):\n",
    "    return lst[n:]+lst[:n]\n",
    "\n",
    "original_lst=[2,3,4,5,6]\n",
    "rotated_lst=rotate_lst(original_lst,2)\n",
    "print(f\"Original:{original_lst} \")\n",
    "print(f\"Rotated lst:{rotated_lst} \")"
   ]
  },
  {
   "cell_type": "markdown",
   "id": "0cf4e8dc",
   "metadata": {},
   "source": [
    "\n",
    "### Assignment 15: List Intersection\n",
    "\n",
    "Write a function that takes two lists and returns a new list containing only the elements that are present in both lists. Print the intersected list."
   ]
  },
  {
   "cell_type": "code",
   "execution_count": 12,
   "id": "91f614e9",
   "metadata": {},
   "outputs": [
    {
     "name": "stdout",
     "output_type": "stream",
     "text": [
      "list1: [1, 2, 3, 4, 5]\n",
      "list1: [3, 4, 8, 9, 10]\n",
      "intrsection: [3, 4]\n"
     ]
    }
   ],
   "source": [
    "def list_intersection(lst1,lst2):\n",
    "    return [x for x in lst1 if x in lst2]\n",
    "\n",
    "list1=[1,2,3,4,5]\n",
    "list2=[3,4,8,9,10]\n",
    "intersection=list_intersection(list1,list2)\n",
    "print(f\"list1: {list1}\")\n",
    "print(f\"list1: {list2}\")\n",
    "print(f\"intrsection: {intersection}\")"
   ]
  },
  {
   "cell_type": "code",
   "execution_count": 1,
   "id": "4f8f028c",
   "metadata": {},
   "outputs": [],
   "source": [
    "#hello\n"
   ]
  },
  {
   "cell_type": "code",
   "execution_count": null,
   "metadata": {},
   "outputs": [],
   "source": []
  }
 ],
 "metadata": {
  "kernelspec": {
   "display_name": "Python 3",
   "language": "python",
   "name": "python3"
  },
  "language_info": {
   "codemirror_mode": {
    "name": "ipython",
    "version": 3
   },
   "file_extension": ".py",
   "mimetype": "text/x-python",
   "name": "python",
   "nbconvert_exporter": "python",
   "pygments_lexer": "ipython3",
   "version": "3.12.0"
  }
 },
 "nbformat": 4,
 "nbformat_minor": 5
}
